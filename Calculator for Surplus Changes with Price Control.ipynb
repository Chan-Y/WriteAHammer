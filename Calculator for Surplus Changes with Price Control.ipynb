{
 "cells": [
  {
   "cell_type": "markdown",
   "metadata": {},
   "source": [
    "## Programmed Calculator about Surplus Change with Price Control"
   ]
  },
  {
   "cell_type": "markdown",
   "metadata": {},
   "source": [
    "### Required input\n",
    "1. `price_ceiling`: how much is the price ceiling\n",
    "2. `price_floor`: how much is the price floor\n",
    "3. `kd` & `bd`: for the line Price(Qd)=k*Q+b, what is the slope and intercept\n",
    "4. `ks` & `bs`: for the line Price(Qs)=k*Q+b, what is the slope and intercept"
   ]
  },
  {
   "cell_type": "code",
   "execution_count": 1,
   "metadata": {},
   "outputs": [],
   "source": [
    "# Default value is -1\n",
    "price_ceiling = 6\n",
    "price_floor = -1\n",
    "\n",
    "#P = kQ + b, d for demand, s for supply\n",
    "kd = -1 / 2\n",
    "bd = 15\n",
    "ks = 1\n",
    "bs = 0"
   ]
  },
  {
   "cell_type": "code",
   "execution_count": 2,
   "metadata": {},
   "outputs": [],
   "source": [
    "import matplotlib.pyplot as plt\n",
    "from sympy import symbols, Eq, solve\n",
    "import numpy as np\n",
    "q, p = symbols('q p')\n",
    "\n",
    "# Line equation\n",
    "D_Eq = Eq(q * kd + bd, p)\n",
    "S_Eq = Eq(q * ks + bs , p)\n",
    "\n",
    "\n",
    "def P_Qd(quantity_demanded):\n",
    "    return quantity_demanded * kd + bd\n",
    "\n",
    "def P_Qs(quantity_supplied):\n",
    "    return quantity_supplied * ks + bs"
   ]
  },
  {
   "cell_type": "markdown",
   "metadata": {},
   "source": [
    "### Find Equilibrium, Consumer/Producer/Total Surplus"
   ]
  },
  {
   "cell_type": "code",
   "execution_count": 3,
   "metadata": {},
   "outputs": [
    {
     "name": "stdout",
     "output_type": "stream",
     "text": [
      "Equilibrium @ Q=10.0000 P=10.0000\n",
      "\n",
      "Surplus \n",
      "CS: 25.0000\n",
      "PS: 50.0000\n",
      "TS: 75.0000\n"
     ]
    }
   ],
   "source": [
    "EP = tuple(solve((D_Eq,S_Eq), (q, p)).values())\n",
    "\n",
    "def surplus(EP):\n",
    "    higher_price = P_Qd(0)\n",
    "    lower_price = P_Qs(0)\n",
    "    \n",
    "    CS = (higher_price - EP[1]) * EP[0] / 2\n",
    "    PS = (EP[1] - lower_price) * EP[0] / 2\n",
    "    TS = CS + PS\n",
    "    return float(CS), float(PS), float(TS)\n",
    "\n",
    "[CS, PS, TS] = surplus(EP)\n",
    "\n",
    "print('Equilibrium @ Q={:.4f} P={:.4f}'.format(float(EP[0]), float(EP[1])))\n",
    "print('\\nSurplus \\nCS: {:.4f}\\nPS: {:.4f}\\nTS: {:.4f}'.format(CS, PS, TS))"
   ]
  },
  {
   "cell_type": "markdown",
   "metadata": {},
   "source": [
    "### Elasticity of Demand and Supply"
   ]
  },
  {
   "cell_type": "code",
   "execution_count": 4,
   "metadata": {},
   "outputs": [
    {
     "name": "stdout",
     "output_type": "stream",
     "text": [
      "\n",
      "Elasticity of demand at equilibrium\n",
      "E_demand = 2.0000\n",
      "E_supply = 1.0000\n",
      "\n",
      "E_demand > E_supply\n"
     ]
    }
   ],
   "source": [
    "def elasticity(kd, ks, EP):\n",
    "    #(Abs of slope of line)^-1 * y / x\n",
    "    elas_demand = abs(kd) ** -1 * EP[1] / EP[0]\n",
    "    elas_supply = abs(ks) ** -1 * EP[1] / EP[0]\n",
    "    return elas_demand, elas_supply\n",
    "\n",
    "elas = elasticity(kd, ks, EP)\n",
    "\n",
    "print('\\nElasticity of demand at equilibrium')\n",
    "print('E_demand = {:.4f}'.format(elas[0]))\n",
    "print('E_supply = {:.4f}'.format(elas[1]))\n",
    "if elas[0] < elas[1]:\n",
    "    print(\"\\nE_demand < E_supply\")\n",
    "elif elas[0] > elas[1]:\n",
    "    print(\"\\nE_demand > E_supply\")\n",
    "else:\n",
    "    print(\"\\nE_demand = E_supply\")"
   ]
  },
  {
   "cell_type": "markdown",
   "metadata": {},
   "source": [
    "### Price Control"
   ]
  },
  {
   "cell_type": "code",
   "execution_count": 5,
   "metadata": {},
   "outputs": [
    {
     "name": "stdout",
     "output_type": "stream",
     "text": [
      "\n",
      "Quantity for new Equilibrium: 6\n",
      "\n",
      "Price Control = 6\n",
      "\n",
      "Surplus before price control \n",
      "CS: 25.0000 \n",
      "PS: 50.0000 \n",
      "TS: 75.0000\n",
      "\n",
      "Surplus with price control \n",
      "CS: 45.0000 \n",
      "PS: 18.0000 \n",
      "TS: 63.0000\n",
      "\n",
      "Surplus Changed\n",
      "△CS: 20.0000 \n",
      "△PS: -32.0000 \n",
      "△TS: -12.0000 \n",
      "\n",
      "DWL: 12.0000000000000\n"
     ]
    }
   ],
   "source": [
    "PF_Eq = Eq(price_floor, p)\n",
    "PC_Eq = Eq(price_ceiling, p)\n",
    "if price_floor > 0:\n",
    "    EP_wPC = tuple(solve((PF_Eq, D_Eq), (q, p)).values())\n",
    "elif price_ceiling > 0:\n",
    "    EP_wPC = tuple(solve((PC_Eq, S_Eq), (q, p)).values())\n",
    "    \n",
    "# Qd_wPC is the quantity value at new equilibrium\n",
    "Qd_wPC = EP_wPC[0]\n",
    "P_at_Qd_wPC = P_Qd(Qd_wPC)\n",
    "P_at_Qs_wPC = P_Qs(Qd_wPC)\n",
    "\n",
    "# when price floor > equilibrium\n",
    "if EP_wPC[1] > EP[1]:\n",
    "    CS_wPC = (P_Qd(0) - P_at_Qd_wPC) * Qd_wPC / 2\n",
    "    PS_wPC = (P_at_Qd_wPC - P_Qs(0) + P_at_Qd_wPC - P_at_Qs_wPC) * Qd_wPC / 2\n",
    "# when price ceiling < equilibrium\n",
    "else:\n",
    "    CS_wPC = (P_Qd(0) - P_at_Qs_wPC + P_at_Qd_wPC - P_at_Qs_wPC) * Qd_wPC / 2\n",
    "    PS_wPC = (P_at_Qs_wPC - P_Qs(0)) * Qd_wPC / 2\n",
    "    \n",
    "TS_wPC = CS_wPC + PS_wPC\n",
    "\n",
    "print('\\nQuantity for new Equilibrium: {}'.format(Qd_wPC))\n",
    "\n",
    "print('\\nPrice Control = {}'.format(price_floor if price_floor > 0 else price_ceiling))\n",
    "\n",
    "print('\\nSurplus before price control \\nCS: {:.4f} \\nPS: {:.4f} \\nTS: {:.4f}'.format(CS, PS, TS))\n",
    "print('\\nSurplus with price control \\nCS: {:.4f} \\nPS: {:.4f} \\nTS: {:.4f}'.format(float(CS_wPC), float(PS_wPC), float(TS_wPC)))\n",
    "print('\\nSurplus Changed\\n△CS: {:.4f} \\n△PS: {:.4f} \\n△TS: {:.4f} '.format(float(CS_wPC)-CS, float(PS_wPC)-PS, float(TS_wPC)-TS))\n",
    "\n",
    "print('\\nDWL: {}'.format((P_at_Qd_wPC - P_at_Qs_wPC) * (EP[0] - Qd_wPC) / 2) )"
   ]
  },
  {
   "cell_type": "markdown",
   "metadata": {},
   "source": [
    "### Plot the Lines of Demand & Supply with Price Control"
   ]
  },
  {
   "cell_type": "code",
   "execution_count": 8,
   "metadata": {},
   "outputs": [
    {
     "data": {
      "text/plain": [
       "Text(6, 6, '(6.0000, 6.0000)')"
      ]
     },
     "execution_count": 8,
     "metadata": {},
     "output_type": "execute_result"
    },
    {
     "data": {
      "image/png": "[encoded data removed]",
      "text/plain": [
       "<Figure size 432x288 with 1 Axes>"
      ]
     },
     "metadata": {
      "needs_background": "light"
     },
     "output_type": "display_data"
    }
   ],
   "source": [
    "x_quantity = np.linspace(0, int(EP[0]+5), 10)\n",
    "MWTP = P_Qd(x_quantity)\n",
    "MC = P_Qs(x_quantity)\n",
    "\n",
    "plt.plot(x_quantity, MWTP, label=\"Demand\")\n",
    "plt.plot(x_quantity, MC, label=\"Supply\")\n",
    "plt.plot(x_quantity, 0 * x_quantity + EP_wPC[1], ':r', label=\"Price Control\")\n",
    "plt.plot(0 * x_quantity + EP_wPC[0], x_quantity, '--k')\n",
    "plt.plot(EP[0], EP[1], 'ro')\n",
    "plt.text(EP[0], EP[1], '({:.4f}, {:.4f})'.format(EP[0], EP[1]))\n",
    "plt.xlabel(\"Quantity\")\n",
    "plt.ylabel(\"Price\")\n",
    "plt.legend(loc=\"lower right\")\n",
    "\n",
    "plt.plot([0, 0], [bd, bs], 'k')\n",
    "plt.text(0, bd, '({}, {:.2f})'.format(0, bd))\n",
    "plt.text(0, bs, '({}, {:.2f})'.format(0, bs))\n",
    "\n",
    "\n",
    "plt.text(Qd_wPC, P_at_Qd_wPC, '({:.4f}, {:.4f})'.format(float(Qd_wPC), float(P_at_Qd_wPC)))\n",
    "plt.text(Qd_wPC, P_at_Qs_wPC, '({:.4f}, {:.4f})'.format(float(Qd_wPC), float(P_at_Qs_wPC)))"
   ]
  }
 ],
 "metadata": {
  "kernelspec": {
   "display_name": "Python 3",
   "language": "python",
   "name": "python3"
  },
  "language_info": {
   "codemirror_mode": {
    "name": "ipython",
    "version": 3
   },
   "file_extension": ".py",
   "mimetype": "text/x-python",
   "name": "python",
   "nbconvert_exporter": "python",
   "pygments_lexer": "ipython3",
   "version": "3.7.3"
  }
 },
 "nbformat": 4,
 "nbformat_minor": 4
}
