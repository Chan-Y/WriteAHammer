{
  "nbformat": 4,
  "nbformat_minor": 0,
  "metadata": {
    "colab": {
      "name": "Hypothesis Test Calculator.ipynb",
      "provenance": [],
      "collapsed_sections": [],
      "authorship_tag": "ABX9TyN7lIcK0h3DBuDlmx2sZLG4",
      "include_colab_link": true
    },
    "kernelspec": {
      "name": "ir",
      "display_name": "R"
    },
    "language_info": {
      "name": "R"
    }
  },
  "cells": [
    {
      "cell_type": "markdown",
      "metadata": {
        "id": "view-in-github",
        "colab_type": "text"
      },
      "source": [
        "<a href=\"https://colab.research.google.com/github/Chan-Y/WriteAHammer/blob/main/Hypothesis_Test.ipynb\" target=\"_parent\"><img src=\"https://colab.research.google.com/assets/colab-badge.svg\" alt=\"Open In Colab\"/></a>"
      ]
    },
    {
      "cell_type": "markdown",
      "source": [
        "### Set up values"
      ],
      "metadata": {
        "id": "MsGLL5TrGwDX"
      }
    },
    {
      "cell_type": "code",
      "execution_count": null,
      "metadata": {
        "id": "RwGV-Yh5lVdw"
      },
      "outputs": [],
      "source": [
        "# Set up values\n",
        "data = c(52, 63, 64, 84)\n",
        "mu_0 = 60\n",
        "n = 4\n",
        "sig_known = FALSE\n",
        "sig = sqrt(5)\n",
        "# CI\n",
        "r = 0.95\n",
        "alpha = 1 - r\n",
        "\n",
        "# Only one of below 3 variables is TRUE, other 2 are FALSE\n",
        "h1_neq = TRUE\n",
        "h1_less = FALSE\n",
        "h1_greater = FALSE"
      ]
    },
    {
      "cell_type": "markdown",
      "source": [
        "### Define function to compute test statistic\n",
        "$$z = \\frac{\\bar{x}-\\mu_0}{\\frac{σ}{\\sqrt(n)}} \\space\\space\\space \\text{OR}\\space\\space\\space t = \\frac{\\bar{x}-\\mu_0}{\\frac{s}{\\sqrt(n)}} $$"
      ],
      "metadata": {
        "id": "tBl-oSA0C27a"
      }
    },
    {
      "cell_type": "code",
      "source": [
        "calculate_test_statstic <- function(x_bar, mu_0, var, n) {\n",
        "  test_stat = (x_bar - mu_0) / var * sqrt(n)\n",
        "  return (test_stat)\n",
        "}"
      ],
      "metadata": {
        "id": "lVoPMuypmjZF"
      },
      "execution_count": null,
      "outputs": []
    },
    {
      "cell_type": "markdown",
      "source": [
        "### Compute $\\bar{x}, z$, OR $s, t(\\text{ when }\\sigma$ is unknown) "
      ],
      "metadata": {
        "id": "KPGTCe14EIg-"
      }
    },
    {
      "cell_type": "code",
      "source": [
        "x_bar = mean(data)\n",
        "if (!sig_known) {\n",
        "  s_sq = var(data)\n",
        "  t = calculate_test_statstic(x_bar, mu_0, sqrt(s_sq), n)\n",
        "} else {\n",
        "  z = calculate_test_statstic(x_bar, mu_0, sig, n)\n",
        "}"
      ],
      "metadata": {
        "id": "tCEM0DcPDvTz"
      },
      "execution_count": null,
      "outputs": []
    },
    {
      "cell_type": "markdown",
      "source": [
        "### Compute p-value based on hypothesis $H_1$\n",
        "\n",
        "\n",
        "\n",
        "\n",
        "*   $H_1: \\mu \\neq \\mu_0$\n",
        "> $2\\times P(T>|t|)$\n",
        "\n",
        "\n",
        "\n",
        "\n",
        "\n",
        "|  \t|    **$\\sigma$ known**    \t| **$\\sigma$ unknown** \t|\n",
        "|---\t|---\t|---\t|\n",
        "| **p-value** \t| $2 \\times P(Z>\\|z\\|)$ \t| $2 \\times P(T>\\|t\\|)$ \t|\n",
        "| **RR($R_\\alpha(T)$)** \t| $(-\\infty,Z_{\\frac{\\alpha}{2}})\\cup(Z_{1-\\frac{\\alpha}{2}}, \\infty)$ \t|  \t|\n",
        "\n",
        "\n",
        "\n",
        "\n",
        "\n",
        "*   $H_1: \\mu < \\mu_0$\n",
        "\n",
        "*   $H_1: \\mu > \\mu_0$\n",
        "\n",
        "\n"
      ],
      "metadata": {
        "id": "Ki1zjZVAFv9j"
      }
    },
    {
      "cell_type": "code",
      "source": [
        "cat(\"x_bar = \", x_bar, \"\\n\")\n",
        "\n",
        "if (sig_known) {  \n",
        "  cat(\"Test Statistic z = \", z, \"\\n\")\n",
        "  if(h1_neq && !h1_less && !h1_greater){\n",
        "    p_value = 2 * ( 1 - pnorm(abs(z)))\n",
        "\n",
        "    # RR\n",
        "    RR_reject_h0 = (abs(z) > qt(1 - alpha / 2, n-1))\n",
        "  }else if(!h1_neq && h1_less && !h1_greater){\n",
        "    \n",
        "  }else if(!h1_neq && !h1_less && h1_greater){\n",
        "\n",
        "  }else{\n",
        "    print(\"Reset the value of h1_neq, h1_less, and h1_greater.\")\n",
        "  }\n",
        "}else {\n",
        "  cat(\"Sample Variance s^2 = \", s_sq, \"\\n\")\n",
        "  cat(\"Test Statistic t = \", t, \"\\n\")\n",
        "\n",
        "  if(h1_neq && !h1_less && !h1_greater){\n",
        "    p_value = 2 * ( 1 - pt(abs(t), n-1))\n",
        "    # RR\n",
        "    RR_reject_h0 = (abs(t) > qnorm(1 - alpha / 2))\n",
        "  }else if(!h1_neq && h1_less && !h1_greater){\n",
        "    \n",
        "  }else if(!h1_neq && !h1_less && h1_greater){\n",
        "\n",
        "  }else{\n",
        "  }\n",
        "}\n",
        "\n",
        "p_value = formatC(p_value, digits = 6, format = \"f\")\n",
        "cat(\"p-value =\", p_value, \"\\n\")\n",
        "cat(\"Fall in reject region: \", RR_reject_h0, \"\\n\")\n",
        "\n",
        "if( p_value > alpha && !RR_reject_h0){\n",
        "  cat(\"p-value > alpha && NOT fall in RR ===> fail to reject H0\\n\")\n",
        "} else if (p_value < alpha && RR_reject_h0){\n",
        "  cat(\"p-value < alpha && fall in RR ===> reject H0\\n\")\n",
        "}"
      ],
      "metadata": {
        "colab": {
          "base_uri": "https://localhost:8080/"
        },
        "id": "v2jqSfAbEuZh",
        "outputId": "aa2d7ba1-3d49-43cf-ec8c-52e6d9ba380c"
      },
      "execution_count": null,
      "outputs": [
        {
          "output_type": "stream",
          "name": "stdout",
          "text": [
            "x_bar =  65.75 \n",
            "Sample Variance s^2 =  177.5833 \n",
            "Test Statistic t =  0.8629721 \n",
            "p-value = 0.451623 \n",
            "Fall in reject region:  FALSE \n",
            "p-value > alpha && NOT fall in RR ===> fail to reject H0\n"
          ]
        }
      ]
    }
  ]
}