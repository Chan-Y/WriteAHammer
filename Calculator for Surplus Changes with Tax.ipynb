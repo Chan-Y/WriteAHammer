{
 "cells": [
  {
   "cell_type": "markdown",
   "metadata": {},
   "source": [
    "## Programmed Calculator about Surplus Change after adding Taxes"
   ]
  },
  {
   "cell_type": "markdown",
   "metadata": {},
   "source": [
    "### Required input\n",
    "1. `tax`: how much is the tax will be\n",
    "2. `kd` & `bd`: for the line Price(Qd)=k*Q+b, what is the slope and intercept\n",
    "3. `ks` & `bs`: for the line Price(Qs)=k*Q+b, what is the slope and intercept"
   ]
  },
  {
   "cell_type": "code",
   "execution_count": 1,
   "metadata": {},
   "outputs": [],
   "source": [
    "tax = 4\n",
    "\n",
    "#P = kQ + b, d for demand, s for supply\n",
    "kd = -3 / 2\n",
    "bd = 16\n",
    "ks = 1 / 2 \n",
    "bs = 2"
   ]
  },
  {
   "cell_type": "code",
   "execution_count": 2,
   "metadata": {},
   "outputs": [],
   "source": [
    "import matplotlib.pyplot as plt\n",
    "from sympy import symbols, Eq, solve\n",
    "import numpy as np\n",
    "q, p = symbols('q p')\n",
    "\n",
    "# Line equation\n",
    "d_Eq = Eq(q * kd + bd, p)\n",
    "s_Eq = Eq(q * ks + bs , p)\n",
    "s_wT_Eq = Eq(q * ks + bs + tax, p)\n",
    "\n",
    "\n",
    "def P_Qd(quantity_demanded):\n",
    "    return quantity_demanded * kd + bd\n",
    "\n",
    "def P_Qs(quantity_supplied):\n",
    "    return quantity_supplied * ks + bs"
   ]
  },
  {
   "cell_type": "markdown",
   "metadata": {},
   "source": [
    "### Find Equilibrium for Demand cross Supply"
   ]
  },
  {
   "cell_type": "code",
   "execution_count": 10,
   "metadata": {},
   "outputs": [
    {
     "name": "stdout",
     "output_type": "stream",
     "text": [
      "Equilibrium @ Q=7.0000 P=5.5000\n"
     ]
    }
   ],
   "source": [
    "sol = solve((d_Eq,s_Eq), (q, p))\n",
    "EP = tuple(sol.values())\n",
    "print('Equilibrium @ Q={:.4f} P={:.4f}'.format(float(EP[0]), float(EP[1])))"
   ]
  },
  {
   "cell_type": "markdown",
   "metadata": {},
   "source": [
    "### Find Consumer/Producer/Total Surplus"
   ]
  },
  {
   "cell_type": "code",
   "execution_count": 4,
   "metadata": {},
   "outputs": [
    {
     "name": "stdout",
     "output_type": "stream",
     "text": [
      "\n",
      "Surplus \n",
      "CS: 36.7500\n",
      "PS: 12.2500\n",
      "TS: 49.0000\n"
     ]
    }
   ],
   "source": [
    "def surplus(EP):\n",
    "    higher_price = P_Qd(0)\n",
    "    lower_price = P_Qs(0)\n",
    "    \n",
    "    CS = (higher_price - EP[1]) * EP[0] / 2\n",
    "    PS = (EP[1] - lower_price) * EP[0] / 2\n",
    "    TS = CS + PS\n",
    "    return CS, PS, TS\n",
    "[CS, PS, TS] = surplus(EP)\n",
    "print('\\nSurplus \\nCS: {:.4f}\\nPS: {:.4f}\\nTS: {:.4f}'.format(CS, PS, TS))"
   ]
  },
  {
   "cell_type": "markdown",
   "metadata": {},
   "source": [
    "### Find Elasticity of Demand and Supply"
   ]
  },
  {
   "cell_type": "code",
   "execution_count": 5,
   "metadata": {},
   "outputs": [
    {
     "name": "stdout",
     "output_type": "stream",
     "text": [
      "\n",
      "Elasticity of demand at equilibrium: 0.5238\n",
      "\n",
      "Elasticity of supply at equilibrium: 1.5714\n",
      "\n",
      "Elasticity of demand < elas of supply => *** Buyer bear more for tax ***\n"
     ]
    }
   ],
   "source": [
    "def elasticity(kd, ks, EP):\n",
    "    #(Abs of slope of line)^-1 * y / x\n",
    "    elas_demand = abs(kd) ** -1 * EP[1] / EP[0]\n",
    "    elas_supply = abs(ks) ** -1 * EP[1] / EP[0]\n",
    "    return elas_demand, elas_supply\n",
    "\n",
    "elas = elasticity(kd, ks, EP)\n",
    "\n",
    "print('\\nElasticity of demand at equilibrium: {:.4f}'.format(elas[0]))\n",
    "print('\\nElasticity of supply at equilibrium: {:.4f}'.format(elas[1]))\n",
    "if elas[0] < elas[1]:\n",
    "    print(\"\\nElasticity of demand < elas of supply => *** Buyer bear more for tax ***\")\n",
    "else:\n",
    "    print(\"\\nElasticity of demand > elas of supply => *** Seller bear more for tax ***\")"
   ]
  },
  {
   "cell_type": "markdown",
   "metadata": {},
   "source": [
    "### Add Tax in and Calculate CS/GS/PS/TS"
   ]
  },
  {
   "cell_type": "code",
   "execution_count": 6,
   "metadata": {},
   "outputs": [
    {
     "name": "stdout",
     "output_type": "stream",
     "text": [
      "\n",
      "Quantity for new Equilibrium: 5.0000\n",
      "\n",
      "Market Price (how much does buyer pay since seller pay tax): 8.5000\n",
      "How much seller get: 4.5000\n",
      "\n",
      "Surplus before tax \n",
      "CS: 36.7500 \n",
      "GS: 0.0000 \n",
      "PS: 12.2500 \n",
      "TS: 49.0000\n",
      "\n",
      "Surplus with tax \n",
      "CS: 18.7500 \n",
      "GS: 20.0000 \n",
      "PS: 6.2500 \n",
      "TS: 45.0000\n",
      "\n",
      "Surplus Changed\n",
      "△CS: -18.0000 \n",
      "△GS: 20.0000 \n",
      "△PS: -6.0000 \n",
      "△TS: -4.0000 \n",
      "\n",
      "DWL: 4.0000\n",
      "\n",
      "\n",
      "Tax total:  4\n",
      "Tax incidence on buyer: 3.0000\n",
      "Tax incidence on seller: 1.0000\n"
     ]
    }
   ],
   "source": [
    "sol_wT = solve((d_Eq,s_wT_Eq), (q, p))\n",
    "EP_wT = tuple(sol_wT.values())\n",
    "Qd_wT = EP_wT[0]\n",
    "\n",
    "P_at_Qd_wT = P_Qd(Qd_wT)\n",
    "P_at_Qs_wT = P_Qs(Qd_wT)\n",
    "\n",
    "CS_wT = (P_Qd(0) - P_at_Qd_wT) * Qd_wT / 2\n",
    "GS_wT = tax * Qd_wT\n",
    "PS_wT = (P_at_Qs_wT - P_Qs(0)) * Qd_wT / 2\n",
    "TS_wT = CS_wT + GS_wT + PS_wT\n",
    "\n",
    "print('\\nQuantity for new Equilibrium: {:.4f}'.format(Qd_wT))\n",
    "print('\\nMarket Price (how much does buyer pay since seller pay tax): {:.4f}'.format(P_at_Qd_wT))\n",
    "print('How much seller get: {:.4f}'.format(P_at_Qs_wT))\n",
    "\n",
    "\n",
    "print('\\nSurplus before tax \\nCS: {:.4f} \\nGS: {:.4f} \\nPS: {:.4f} \\nTS: {:.4f}'.format(CS, 0, PS, TS))\n",
    "print('\\nSurplus with tax \\nCS: {:.4f} \\nGS: {:.4f} \\nPS: {:.4f} \\nTS: {:.4f}'.format(float(CS_wT), float(GS_wT), float(PS_wT), float(TS_wT)))\n",
    "print('\\nSurplus Changed\\n△CS: {:.4f} \\n△GS: {:.4f} \\n△PS: {:.4f} \\n△TS: {:.4f} '.format(float(CS_wT)-CS, float(GS_wT)-0, float(PS_wT)-PS, float(TS_wT)-TS))\n",
    "\n",
    "print('\\nDWL: {:.4f}'.format((P_at_Qd_wT - P_at_Qs_wT) * (EP[0] - EP_wT[0]) / 2) )\n",
    "\n",
    "print('\\n\\nTax total: ', tax)\n",
    "print('Tax incidence on buyer: {:.4f}'.format(P_at_Qd_wT - EP[1]))\n",
    "print('Tax incidence on seller: {:.4f}'.format(EP[1] - P_at_Qs_wT))"
   ]
  },
  {
   "cell_type": "markdown",
   "metadata": {},
   "source": [
    "### Plot the Line of Demand & Supply"
   ]
  },
  {
   "cell_type": "code",
   "execution_count": 7,
   "metadata": {},
   "outputs": [
    {
     "data": {
      "text/plain": [
       "Text(0, 2, '(0, 2.00)')"
      ]
     },
     "execution_count": 7,
     "metadata": {},
     "output_type": "execute_result"
    },
    {
     "data": {
      "image/png": "[encoded data removed]",
      "text/plain": [
       "<Figure size 432x288 with 1 Axes>"
      ]
     },
     "metadata": {
      "needs_background": "light"
     },
     "output_type": "display_data"
    }
   ],
   "source": [
    "quantity_demanded = np.linspace(-5, int(EP[0]+5), 10)\n",
    "quantity_supplied = np.linspace(-5, int(EP[0]+5), 10)\n",
    "MWTP = P_Qd(quantity_demanded)\n",
    "MC = P_Qs(quantity_supplied)\n",
    "\n",
    "plt.plot(quantity_demanded, MWTP, label=\"Demand\")\n",
    "plt.plot(quantity_supplied, MC, label=\"Supply\")\n",
    "plt.plot(EP[0], EP[1], 'ro')\n",
    "plt.text(EP[0], EP[1], '({:.4f}, {:.4f})'.format(EP[0], EP[1]))\n",
    "plt.xlabel(\"Quantity\")\n",
    "plt.ylabel(\"Price\")\n",
    "plt.legend(loc=\"upper left\")\n",
    "\n",
    "plt.plot([Qd_wT, Qd_wT], [P_at_Qd_wT, P_at_Qs_wT])\n",
    "plt.text(Qd_wT, P_at_Qd_wT, '({:.2f}, {:.2f})'.format(Qd_wT, P_at_Qd_wT))\n",
    "plt.text(Qd_wT, P_at_Qs_wT, '({:.2f}, {:.2f})'.format(Qd_wT, P_at_Qs_wT))\n",
    "\n",
    "plt.plot([0, 0], [bd, bs])\n",
    "plt.text(0, bd, '({}, {:.2f})'.format(0, bd))\n",
    "plt.text(0, bs, '({}, {:.2f})'.format(0, bs))"
   ]
  }
 ],
 "metadata": {
  "kernelspec": {
   "display_name": "Python 3",
   "language": "python",
   "name": "python3"
  },
  "language_info": {
   "codemirror_mode": {
    "name": "ipython",
    "version": 3
   },
   "file_extension": ".py",
   "mimetype": "text/x-python",
   "name": "python",
   "nbconvert_exporter": "python",
   "pygments_lexer": "ipython3",
   "version": "3.7.3"
  }
 },
 "nbformat": 4,
 "nbformat_minor": 4
}
